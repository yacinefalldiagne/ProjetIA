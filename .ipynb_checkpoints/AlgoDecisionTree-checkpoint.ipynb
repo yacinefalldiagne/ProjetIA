{
 "cells": [
  {
   "cell_type": "code",
   "execution_count": 4,
   "id": "769d3cba-69af-489e-8372-f414845532d4",
   "metadata": {},
   "outputs": [
    {
     "name": "stdout",
     "output_type": "stream",
     "text": [
      "Requirement already satisfied: pydotplus in c:\\users\\hp\\anaconda3\\lib\\site-packages (2.0.2)\n",
      "Requirement already satisfied: pyparsing>=2.0.1 in c:\\users\\hp\\anaconda3\\lib\\site-packages (from pydotplus) (3.1.2)\n",
      "96210\n",
      "96210\n",
      "Accuracy Score: 0.9876073143522336\n",
      "Rapport de classification :\n",
      "              precision    recall  f1-score   support\n",
      "\n",
      "           0       0.99      0.99      0.99     28884\n",
      "           1       0.98      0.98      0.98     12350\n",
      "\n",
      "    accuracy                           0.99     41234\n",
      "   macro avg       0.98      0.99      0.99     41234\n",
      "weighted avg       0.99      0.99      0.99     41234\n",
      "\n"
     ]
    }
   ],
   "source": [
    "!pip install pydotplus\n",
    "import numpy as np\n",
    "import matplotlib.pyplot as plt \n",
    "import pandas as pd\n",
    "\n",
    "dataset = pd.read_csv('DatasetmalwareExtrait.csv')\n",
    "dataset.head()\n",
    "\n",
    "#separer features -> X  et labels -> Y \n",
    "X = dataset[['AddressOfEntryPoint', 'MajorLinkerVersion','MajorImageVersion','MajorOperatingSystemVersion','DllCharacteristics','SizeOfStackReserve','NumberOfSections','ResourceSize',]]\n",
    "#print(X)\n",
    "Y = dataset[['legitimate']]\n",
    "#print(Y)\n",
    "\n",
    "#Separation en donne d'entrainement et en donne de test\n",
    "from sklearn.model_selection import train_test_split\n",
    "X_train, X_test, Y_train, Y_test = train_test_split(X, Y, train_size=0.7, random_state=42)\n",
    "print(len(X_train))\n",
    "print(len(Y_train))\n",
    "\n",
    "#entrainer le modele avec l'algorithme decision tree\n",
    "from sklearn.tree import DecisionTreeClassifier\n",
    "model=DecisionTreeClassifier()\n",
    "model.fit(X_train, Y_train)\n",
    "\n",
    "#prediction\n",
    "y_pred = model.predict(X_test)#Accuracy  \n",
    "from sklearn import metrics \n",
    "print('Accuracy Score:', metrics.accuracy_score(Y_test,y_pred))\n",
    "\n",
    "from sklearn.metrics import classification_report\n",
    "report = classification_report(Y_test, y_pred)\n",
    "\n",
    "# Affichage du rapport de classification\n",
    "print(\"Rapport de classification :\")\n",
    "print(report)"
   ]
  },
  {
   "cell_type": "code",
   "execution_count": null,
   "id": "06aa9a25-81f0-402f-a0a9-7b7601fc432a",
   "metadata": {},
   "outputs": [],
   "source": []
  }
 ],
 "metadata": {
  "kernelspec": {
   "display_name": "Python 3 (ipykernel)",
   "language": "python",
   "name": "python3"
  },
  "language_info": {
   "codemirror_mode": {
    "name": "ipython",
    "version": 3
   },
   "file_extension": ".py",
   "mimetype": "text/x-python",
   "name": "python",
   "nbconvert_exporter": "python",
   "pygments_lexer": "ipython3",
   "version": "3.12.7"
  }
 },
 "nbformat": 4,
 "nbformat_minor": 5
}
