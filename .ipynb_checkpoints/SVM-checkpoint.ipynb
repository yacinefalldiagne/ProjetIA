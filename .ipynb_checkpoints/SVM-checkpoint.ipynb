{
 "cells": [
  {
   "cell_type": "code",
   "execution_count": 11,
   "id": "cee7be48-4e0f-4207-b450-10c33b850f4a",
   "metadata": {},
   "outputs": [
    {
     "name": "stdout",
     "output_type": "stream",
     "text": [
      "96210\n",
      "96210\n",
      "Rapport de classification SVM :\n",
      "              precision    recall  f1-score   support\n",
      "\n",
      "           0       0.90      0.99      0.94     28884\n",
      "           1       0.98      0.74      0.84     12350\n",
      "\n",
      "    accuracy                           0.92     41234\n",
      "   macro avg       0.94      0.87      0.89     41234\n",
      "weighted avg       0.92      0.92      0.91     41234\n",
      "\n"
     ]
    }
   ],
   "source": [
    "# Importer les bibliothèques nécessaires\n",
    "import pandas as pd\n",
    "from sklearn.model_selection import train_test_split\n",
    "from sklearn.svm import SVC\n",
    "from sklearn.metrics import classification_report\n",
    "\n",
    "# Charger le dataset\n",
    "data = pd.read_csv('DatasetmalwareExtrait.csv')\n",
    "\n",
    "# Séparation des données en caractéristiques et cible\n",
    "X = data.drop('AddressOfEntryPoint', axis=1).values  \n",
    "Y = data['legitimate'].values \n",
    "\n",
    "# Séparation des données en ensembles d'entraînement et de test\n",
    "X_train, X_test, Y_train, Y_test = train_test_split(X, Y, train_size=0.7, random_state=42)\n",
    "\n",
    "print(len(X_train))  \n",
    "print(len(Y_train))  \n",
    "\n",
    "# Support Vector Machine (SVM)\n",
    "svm_model = SVC(random_state=42)\n",
    "svm_model.fit(X_train, Y_train)\n",
    "y_predict_svm = svm_model.predict(X_test)\n",
    "\n",
    "# Rapport de classification\n",
    "print(\"Rapport de classification SVM :\")\n",
    "print(classification_report(Y_test, y_predict_svm))\n"
   ]
  },
  {
   "cell_type": "code",
   "execution_count": null,
   "id": "49c8faeb-22aa-4c23-aa18-f59966807949",
   "metadata": {},
   "outputs": [],
   "source": []
  }
 ],
 "metadata": {
  "kernelspec": {
   "display_name": "Python 3 (ipykernel)",
   "language": "python",
   "name": "python3"
  },
  "language_info": {
   "codemirror_mode": {
    "name": "ipython",
    "version": 3
   },
   "file_extension": ".py",
   "mimetype": "text/x-python",
   "name": "python",
   "nbconvert_exporter": "python",
   "pygments_lexer": "ipython3",
   "version": "3.12.7"
  }
 },
 "nbformat": 4,
 "nbformat_minor": 5
}
