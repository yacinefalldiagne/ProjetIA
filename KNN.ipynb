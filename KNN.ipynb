{
 "cells": [
  {
   "cell_type": "code",
   "execution_count": 1,
   "id": "99ba0f09-2277-48de-9d4c-61e063e3f0f2",
   "metadata": {},
   "outputs": [
    {
     "name": "stdout",
     "output_type": "stream",
     "text": [
      "96210\n",
      "96210\n",
      "Rapport de classification KNN :\n",
      "              precision    recall  f1-score   support\n",
      "\n",
      "           0       0.99      0.99      0.99     28884\n",
      "           1       0.97      0.97      0.97     12350\n",
      "\n",
      "    accuracy                           0.98     41234\n",
      "   macro avg       0.98      0.98      0.98     41234\n",
      "weighted avg       0.98      0.98      0.98     41234\n",
      "\n"
     ]
    }
   ],
   "source": [
    "# Importer les bibliothèques nécessaires\n",
    "import pandas as pd\n",
    "from sklearn.model_selection import train_test_split\n",
    "from sklearn.neighbors import KNeighborsClassifier\n",
    "from sklearn.metrics import classification_report\n",
    "\n",
    "# Charger le dataset\n",
    "data = pd.read_csv('DatasetmalwareExtrait.csv')\n",
    "\n",
    "# Séparation des données en caractéristiques et cible\n",
    "X = data.drop('AddressOfEntryPoint', axis=1).values \n",
    "Y = data['legitimate'].values  \n",
    "\n",
    "# Séparation des données en ensembles d'entraînement et de test\n",
    "X_train, X_test, Y_train, Y_test = train_test_split(X, Y, train_size=0.7, random_state=42)\n",
    "\n",
    "print(len(X_train))  # Afficher la taille de l'ensemble d'entraînement\n",
    "print(len(Y_train))  # Afficher la taille de l'ensemble d'entraînement\n",
    "\n",
    "# K-Nearest Neighbors (KNN)\n",
    "knn_model = KNeighborsClassifier()\n",
    "knn_model.fit(X_train, Y_train)\n",
    "y_predict_knn = knn_model.predict(X_test)\n",
    "\n",
    "# Rapport de classification\n",
    "print(\"Rapport de classification KNN :\")\n",
    "print(classification_report(Y_test, y_predict_knn))\n"
   ]
  },
  {
   "cell_type": "code",
   "execution_count": null,
   "id": "9696f16d-467f-4536-a070-6f899b367a5b",
   "metadata": {},
   "outputs": [],
   "source": []
  }
 ],
 "metadata": {
  "kernelspec": {
   "display_name": "Python 3 (ipykernel)",
   "language": "python",
   "name": "python3"
  },
  "language_info": {
   "codemirror_mode": {
    "name": "ipython",
    "version": 3
   },
   "file_extension": ".py",
   "mimetype": "text/x-python",
   "name": "python",
   "nbconvert_exporter": "python",
   "pygments_lexer": "ipython3",
   "version": "3.12.7"
  }
 },
 "nbformat": 4,
 "nbformat_minor": 5
}
